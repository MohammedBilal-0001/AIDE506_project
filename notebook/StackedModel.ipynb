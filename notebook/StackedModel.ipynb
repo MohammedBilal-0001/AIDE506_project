{
 "cells": [
  {
   "cell_type": "markdown",
   "metadata": {},
   "source": [
    "# imports"
   ]
  },
  {
   "cell_type": "code",
   "execution_count": 37,
   "metadata": {},
   "outputs": [],
   "source": [
    "import numpy as np \n",
    "import pandas as pd\n",
    "from sklearn.preprocessing import LabelEncoder,StandardScaler\n",
    "from sklearn.model_selection import train_test_split\n",
    "from sklearn.ensemble import RandomForestClassifier\n",
    "from sklearn.metrics import classification_report, accuracy_score, ConfusionMatrixDisplay\n",
    "from sklearn.ensemble import RandomForestClassifier\n",
    "from sklearn.model_selection import RandomizedSearchCV\n",
    "from scipy.stats import randint\n",
    "from sklearn.metrics import accuracy_score, classification_report, confusion_matrix\n",
    "import matplotlib.pyplot as plt\n",
    "import mlflow\n",
    "import mlflow.sklearn\n",
    "import matplotlib.pyplot as plt\n",
    "import seaborn as sns\n",
    "import numpy as np\n",
    "from sklearn.metrics import accuracy_score, classification_report, confusion_matrix\n",
    "from sklearn.linear_model import LogisticRegression\n",
    "from sklearn.model_selection import GridSearchCV\n",
    "import numpy as np\n",
    "from mlflow.models.signature import infer_signature\n"
   ]
  },
  {
   "cell_type": "markdown",
   "metadata": {},
   "source": [
    "## Load and  split data"
   ]
  },
  {
   "cell_type": "code",
   "execution_count": 2,
   "metadata": {},
   "outputs": [
    {
     "data": {
      "text/html": [
       "<div>\n",
       "<style scoped>\n",
       "    .dataframe tbody tr th:only-of-type {\n",
       "        vertical-align: middle;\n",
       "    }\n",
       "\n",
       "    .dataframe tbody tr th {\n",
       "        vertical-align: top;\n",
       "    }\n",
       "\n",
       "    .dataframe thead th {\n",
       "        text-align: right;\n",
       "    }\n",
       "</style>\n",
       "<table border=\"1\" class=\"dataframe\">\n",
       "  <thead>\n",
       "    <tr style=\"text-align: right;\">\n",
       "      <th></th>\n",
       "      <th>gender</th>\n",
       "      <th>SeniorCitizen</th>\n",
       "      <th>Partner</th>\n",
       "      <th>Dependents</th>\n",
       "      <th>tenure</th>\n",
       "      <th>PhoneService</th>\n",
       "      <th>MultipleLines</th>\n",
       "      <th>InternetService</th>\n",
       "      <th>OnlineSecurity</th>\n",
       "      <th>OnlineBackup</th>\n",
       "      <th>DeviceProtection</th>\n",
       "      <th>TechSupport</th>\n",
       "      <th>StreamingTV</th>\n",
       "      <th>StreamingMovies</th>\n",
       "      <th>Contract</th>\n",
       "      <th>PaperlessBilling</th>\n",
       "      <th>PaymentMethod</th>\n",
       "      <th>MonthlyCharges</th>\n",
       "      <th>TotalCharges</th>\n",
       "      <th>Churn</th>\n",
       "    </tr>\n",
       "  </thead>\n",
       "  <tbody>\n",
       "    <tr>\n",
       "      <th>0</th>\n",
       "      <td>0</td>\n",
       "      <td>0</td>\n",
       "      <td>1</td>\n",
       "      <td>0</td>\n",
       "      <td>-1.277445</td>\n",
       "      <td>0</td>\n",
       "      <td>1</td>\n",
       "      <td>0</td>\n",
       "      <td>0</td>\n",
       "      <td>2</td>\n",
       "      <td>0</td>\n",
       "      <td>0</td>\n",
       "      <td>0</td>\n",
       "      <td>0</td>\n",
       "      <td>0</td>\n",
       "      <td>1</td>\n",
       "      <td>2</td>\n",
       "      <td>-1.160323</td>\n",
       "      <td>-0.994242</td>\n",
       "      <td>0</td>\n",
       "    </tr>\n",
       "    <tr>\n",
       "      <th>1</th>\n",
       "      <td>1</td>\n",
       "      <td>0</td>\n",
       "      <td>0</td>\n",
       "      <td>0</td>\n",
       "      <td>0.066327</td>\n",
       "      <td>1</td>\n",
       "      <td>0</td>\n",
       "      <td>0</td>\n",
       "      <td>2</td>\n",
       "      <td>0</td>\n",
       "      <td>2</td>\n",
       "      <td>0</td>\n",
       "      <td>0</td>\n",
       "      <td>0</td>\n",
       "      <td>1</td>\n",
       "      <td>0</td>\n",
       "      <td>3</td>\n",
       "      <td>-0.259629</td>\n",
       "      <td>-0.173244</td>\n",
       "      <td>0</td>\n",
       "    </tr>\n",
       "    <tr>\n",
       "      <th>2</th>\n",
       "      <td>1</td>\n",
       "      <td>0</td>\n",
       "      <td>0</td>\n",
       "      <td>0</td>\n",
       "      <td>-1.236724</td>\n",
       "      <td>1</td>\n",
       "      <td>0</td>\n",
       "      <td>0</td>\n",
       "      <td>2</td>\n",
       "      <td>2</td>\n",
       "      <td>0</td>\n",
       "      <td>0</td>\n",
       "      <td>0</td>\n",
       "      <td>0</td>\n",
       "      <td>0</td>\n",
       "      <td>1</td>\n",
       "      <td>3</td>\n",
       "      <td>-0.362660</td>\n",
       "      <td>-0.959674</td>\n",
       "      <td>1</td>\n",
       "    </tr>\n",
       "    <tr>\n",
       "      <th>3</th>\n",
       "      <td>1</td>\n",
       "      <td>0</td>\n",
       "      <td>0</td>\n",
       "      <td>0</td>\n",
       "      <td>0.514251</td>\n",
       "      <td>0</td>\n",
       "      <td>1</td>\n",
       "      <td>0</td>\n",
       "      <td>2</td>\n",
       "      <td>0</td>\n",
       "      <td>2</td>\n",
       "      <td>2</td>\n",
       "      <td>0</td>\n",
       "      <td>0</td>\n",
       "      <td>1</td>\n",
       "      <td>0</td>\n",
       "      <td>0</td>\n",
       "      <td>-0.746535</td>\n",
       "      <td>-0.194766</td>\n",
       "      <td>0</td>\n",
       "    </tr>\n",
       "    <tr>\n",
       "      <th>4</th>\n",
       "      <td>0</td>\n",
       "      <td>0</td>\n",
       "      <td>0</td>\n",
       "      <td>0</td>\n",
       "      <td>-1.236724</td>\n",
       "      <td>1</td>\n",
       "      <td>0</td>\n",
       "      <td>1</td>\n",
       "      <td>0</td>\n",
       "      <td>0</td>\n",
       "      <td>0</td>\n",
       "      <td>0</td>\n",
       "      <td>0</td>\n",
       "      <td>0</td>\n",
       "      <td>0</td>\n",
       "      <td>1</td>\n",
       "      <td>2</td>\n",
       "      <td>0.197365</td>\n",
       "      <td>-0.940470</td>\n",
       "      <td>1</td>\n",
       "    </tr>\n",
       "  </tbody>\n",
       "</table>\n",
       "</div>"
      ],
      "text/plain": [
       "   gender  SeniorCitizen  Partner  Dependents    tenure  PhoneService  \\\n",
       "0       0              0        1           0 -1.277445             0   \n",
       "1       1              0        0           0  0.066327             1   \n",
       "2       1              0        0           0 -1.236724             1   \n",
       "3       1              0        0           0  0.514251             0   \n",
       "4       0              0        0           0 -1.236724             1   \n",
       "\n",
       "   MultipleLines  InternetService  OnlineSecurity  OnlineBackup  \\\n",
       "0              1                0               0             2   \n",
       "1              0                0               2             0   \n",
       "2              0                0               2             2   \n",
       "3              1                0               2             0   \n",
       "4              0                1               0             0   \n",
       "\n",
       "   DeviceProtection  TechSupport  StreamingTV  StreamingMovies  Contract  \\\n",
       "0                 0            0            0                0         0   \n",
       "1                 2            0            0                0         1   \n",
       "2                 0            0            0                0         0   \n",
       "3                 2            2            0                0         1   \n",
       "4                 0            0            0                0         0   \n",
       "\n",
       "   PaperlessBilling  PaymentMethod  MonthlyCharges  TotalCharges  Churn  \n",
       "0                 1              2       -1.160323     -0.994242      0  \n",
       "1                 0              3       -0.259629     -0.173244      0  \n",
       "2                 1              3       -0.362660     -0.959674      1  \n",
       "3                 0              0       -0.746535     -0.194766      0  \n",
       "4                 1              2        0.197365     -0.940470      1  "
      ]
     },
     "execution_count": 2,
     "metadata": {},
     "output_type": "execute_result"
    }
   ],
   "source": [
    "data_file=pd.read_csv('G:\\LebanseUni\\M2\\S1\\AIDE506-Advanced Machine learining Topics\\Project\\Data\\processed_data.csv')\n",
    "data_file.head()"
   ]
  },
  {
   "cell_type": "code",
   "execution_count": 3,
   "metadata": {},
   "outputs": [
    {
     "data": {
      "text/html": [
       "<div>\n",
       "<style scoped>\n",
       "    .dataframe tbody tr th:only-of-type {\n",
       "        vertical-align: middle;\n",
       "    }\n",
       "\n",
       "    .dataframe tbody tr th {\n",
       "        vertical-align: top;\n",
       "    }\n",
       "\n",
       "    .dataframe thead th {\n",
       "        text-align: right;\n",
       "    }\n",
       "</style>\n",
       "<table border=\"1\" class=\"dataframe\">\n",
       "  <thead>\n",
       "    <tr style=\"text-align: right;\">\n",
       "      <th></th>\n",
       "      <th>gender</th>\n",
       "      <th>SeniorCitizen</th>\n",
       "      <th>Partner</th>\n",
       "      <th>Dependents</th>\n",
       "      <th>tenure</th>\n",
       "      <th>PhoneService</th>\n",
       "      <th>MultipleLines</th>\n",
       "      <th>InternetService</th>\n",
       "      <th>OnlineSecurity</th>\n",
       "      <th>OnlineBackup</th>\n",
       "      <th>DeviceProtection</th>\n",
       "      <th>TechSupport</th>\n",
       "      <th>StreamingTV</th>\n",
       "      <th>StreamingMovies</th>\n",
       "      <th>Contract</th>\n",
       "      <th>PaperlessBilling</th>\n",
       "      <th>PaymentMethod</th>\n",
       "      <th>MonthlyCharges</th>\n",
       "      <th>TotalCharges</th>\n",
       "    </tr>\n",
       "  </thead>\n",
       "  <tbody>\n",
       "    <tr>\n",
       "      <th>0</th>\n",
       "      <td>0</td>\n",
       "      <td>0</td>\n",
       "      <td>1</td>\n",
       "      <td>0</td>\n",
       "      <td>-1.277445</td>\n",
       "      <td>0</td>\n",
       "      <td>1</td>\n",
       "      <td>0</td>\n",
       "      <td>0</td>\n",
       "      <td>2</td>\n",
       "      <td>0</td>\n",
       "      <td>0</td>\n",
       "      <td>0</td>\n",
       "      <td>0</td>\n",
       "      <td>0</td>\n",
       "      <td>1</td>\n",
       "      <td>2</td>\n",
       "      <td>-1.160323</td>\n",
       "      <td>-0.994242</td>\n",
       "    </tr>\n",
       "    <tr>\n",
       "      <th>1</th>\n",
       "      <td>1</td>\n",
       "      <td>0</td>\n",
       "      <td>0</td>\n",
       "      <td>0</td>\n",
       "      <td>0.066327</td>\n",
       "      <td>1</td>\n",
       "      <td>0</td>\n",
       "      <td>0</td>\n",
       "      <td>2</td>\n",
       "      <td>0</td>\n",
       "      <td>2</td>\n",
       "      <td>0</td>\n",
       "      <td>0</td>\n",
       "      <td>0</td>\n",
       "      <td>1</td>\n",
       "      <td>0</td>\n",
       "      <td>3</td>\n",
       "      <td>-0.259629</td>\n",
       "      <td>-0.173244</td>\n",
       "    </tr>\n",
       "    <tr>\n",
       "      <th>2</th>\n",
       "      <td>1</td>\n",
       "      <td>0</td>\n",
       "      <td>0</td>\n",
       "      <td>0</td>\n",
       "      <td>-1.236724</td>\n",
       "      <td>1</td>\n",
       "      <td>0</td>\n",
       "      <td>0</td>\n",
       "      <td>2</td>\n",
       "      <td>2</td>\n",
       "      <td>0</td>\n",
       "      <td>0</td>\n",
       "      <td>0</td>\n",
       "      <td>0</td>\n",
       "      <td>0</td>\n",
       "      <td>1</td>\n",
       "      <td>3</td>\n",
       "      <td>-0.362660</td>\n",
       "      <td>-0.959674</td>\n",
       "    </tr>\n",
       "    <tr>\n",
       "      <th>3</th>\n",
       "      <td>1</td>\n",
       "      <td>0</td>\n",
       "      <td>0</td>\n",
       "      <td>0</td>\n",
       "      <td>0.514251</td>\n",
       "      <td>0</td>\n",
       "      <td>1</td>\n",
       "      <td>0</td>\n",
       "      <td>2</td>\n",
       "      <td>0</td>\n",
       "      <td>2</td>\n",
       "      <td>2</td>\n",
       "      <td>0</td>\n",
       "      <td>0</td>\n",
       "      <td>1</td>\n",
       "      <td>0</td>\n",
       "      <td>0</td>\n",
       "      <td>-0.746535</td>\n",
       "      <td>-0.194766</td>\n",
       "    </tr>\n",
       "    <tr>\n",
       "      <th>4</th>\n",
       "      <td>0</td>\n",
       "      <td>0</td>\n",
       "      <td>0</td>\n",
       "      <td>0</td>\n",
       "      <td>-1.236724</td>\n",
       "      <td>1</td>\n",
       "      <td>0</td>\n",
       "      <td>1</td>\n",
       "      <td>0</td>\n",
       "      <td>0</td>\n",
       "      <td>0</td>\n",
       "      <td>0</td>\n",
       "      <td>0</td>\n",
       "      <td>0</td>\n",
       "      <td>0</td>\n",
       "      <td>1</td>\n",
       "      <td>2</td>\n",
       "      <td>0.197365</td>\n",
       "      <td>-0.940470</td>\n",
       "    </tr>\n",
       "  </tbody>\n",
       "</table>\n",
       "</div>"
      ],
      "text/plain": [
       "   gender  SeniorCitizen  Partner  Dependents    tenure  PhoneService  \\\n",
       "0       0              0        1           0 -1.277445             0   \n",
       "1       1              0        0           0  0.066327             1   \n",
       "2       1              0        0           0 -1.236724             1   \n",
       "3       1              0        0           0  0.514251             0   \n",
       "4       0              0        0           0 -1.236724             1   \n",
       "\n",
       "   MultipleLines  InternetService  OnlineSecurity  OnlineBackup  \\\n",
       "0              1                0               0             2   \n",
       "1              0                0               2             0   \n",
       "2              0                0               2             2   \n",
       "3              1                0               2             0   \n",
       "4              0                1               0             0   \n",
       "\n",
       "   DeviceProtection  TechSupport  StreamingTV  StreamingMovies  Contract  \\\n",
       "0                 0            0            0                0         0   \n",
       "1                 2            0            0                0         1   \n",
       "2                 0            0            0                0         0   \n",
       "3                 2            2            0                0         1   \n",
       "4                 0            0            0                0         0   \n",
       "\n",
       "   PaperlessBilling  PaymentMethod  MonthlyCharges  TotalCharges  \n",
       "0                 1              2       -1.160323     -0.994242  \n",
       "1                 0              3       -0.259629     -0.173244  \n",
       "2                 1              3       -0.362660     -0.959674  \n",
       "3                 0              0       -0.746535     -0.194766  \n",
       "4                 1              2        0.197365     -0.940470  "
      ]
     },
     "execution_count": 3,
     "metadata": {},
     "output_type": "execute_result"
    }
   ],
   "source": [
    "y=data_file[\"Churn\"]\n",
    "x=data_file.drop(\"Churn\" , axis=1)\n",
    "x.head()"
   ]
  },
  {
   "cell_type": "code",
   "execution_count": 19,
   "metadata": {},
   "outputs": [],
   "source": [
    "X_train_val, X_test, y_train_val, y_test = train_test_split(x, y, test_size=0.15, random_state=42)\n",
    "X_train,X_val,y_train,y_val=train_test_split(X_train_val, y_train_val, test_size=0.20, random_state=42)"
   ]
  },
  {
   "cell_type": "markdown",
   "metadata": {},
   "source": [
    "#### SMOTE"
   ]
  },
  {
   "cell_type": "code",
   "execution_count": 20,
   "metadata": {},
   "outputs": [
    {
     "name": "stdout",
     "output_type": "stream",
     "text": [
      "(7008, 19) (5986, 19)\n"
     ]
    }
   ],
   "source": [
    "from imblearn.over_sampling import SMOTE\n",
    "smote = SMOTE()\n",
    "X_resampled, y_resampled = smote.fit_resample(X_train, y_train)\n",
    "print(X_resampled.shape,X_train_val.shape)"
   ]
  },
  {
   "cell_type": "code",
   "execution_count": null,
   "metadata": {},
   "outputs": [],
   "source": []
  },
  {
   "cell_type": "markdown",
   "metadata": {},
   "source": [
    "# Base Models :\n",
    "1. Randomforest\n",
    "2. Logistic Reg\n",
    "3. XGboost"
   ]
  },
  {
   "cell_type": "markdown",
   "metadata": {},
   "source": [
    "## find best hyperParameter for each"
   ]
  },
  {
   "cell_type": "code",
   "execution_count": 5,
   "metadata": {},
   "outputs": [
    {
     "data": {
      "text/plain": [
       "<Experiment: artifact_location='file:///g:/LebanseUni/M2/S1/AIDE506-Advanced%20Machine%20learining%20Topics/Project/notebook/mlruns/419857677692309404', creation_time=1742050110773, experiment_id='419857677692309404', last_update_time=1742050110773, lifecycle_stage='active', name='Find_HyperParameter_Experiment', tags={}>"
      ]
     },
     "execution_count": 5,
     "metadata": {},
     "output_type": "execute_result"
    }
   ],
   "source": [
    "# Set MLflow experiment name. This will get created if it doesn't exist\n",
    "experiment_name = \"Find_HyperParameter_Experiment\"\n",
    "experiment_id = mlflow.create_experiment(experiment_name)\n",
    "mlflow.set_experiment(experiment_name)"
   ]
  },
  {
   "cell_type": "code",
   "execution_count": null,
   "metadata": {},
   "outputs": [],
   "source": [
    "def train_and_log_model(model, X_train, y_train, X_test, y_test,note,is_search):\n",
    "    with mlflow.start_run():\n",
    "        # Train the model\n",
    "        model.fit(X_train, y_train)\n",
    "\n",
    "        if is_search:\n",
    "            model=model.best_estimator_\n",
    "\n",
    "        # Make predictions\n",
    "        y_pred = model.predict(X_test)\n",
    "        accuracy = accuracy_score(y_test, y_pred)\n",
    "\n",
    "        # Compute classification report and confusion matrix\n",
    "        class_report = classification_report(y_test, y_pred, output_dict=True)\n",
    "        conf_matrix = confusion_matrix(y_test, y_pred)\n",
    "\n",
    "        # Log classification metrics\n",
    "        mlflow.log_metric(\"accuracy\", accuracy)\n",
    "        mlflow.log_metric(\"precision\", class_report[\"weighted avg\"][\"precision\"])\n",
    "        mlflow.log_metric(\"recall\", class_report[\"weighted avg\"][\"recall\"])\n",
    "        mlflow.log_metric(\"f1-score\", class_report[\"weighted avg\"][\"f1-score\"])\n",
    "        \n",
    "\n",
    "        # Log parameters of the model (if applicable)\n",
    "        if hasattr(model, \"get_params\"):\n",
    "            params = model.get_params()\n",
    "            for param, value in params.items():\n",
    "                mlflow.log_param(param, value)\n",
    "\n",
    "\n",
    "        #log \n",
    "        class_report_text = classification_report(y_test, y_pred)\n",
    "        with open(\"classification_report.txt\", \"w\") as f:\n",
    "            f.write(class_report_text)\n",
    "        mlflow.log_artifact(\"classification_report.txt\")\n",
    "        # Log model\n",
    "        # Infer signature and create an input example\n",
    "        input_example = X_train.iloc[:1]  # Use first sample for input example\n",
    "        signature = infer_signature(X_train, model.predict(X_train))\n",
    "\n",
    "        # Log model with signature & input example\n",
    "        mlflow.sklearn.log_model(model, \"model\", signature=signature, input_example=input_example)\n",
    "\n",
    "        # Log confusion matrix as an image\n",
    "        plt.figure(figsize=(6, 4))\n",
    "        sns.heatmap(conf_matrix, annot=True, fmt=\"d\", cmap=\"Blues\", xticklabels=np.unique(y_test), yticklabels=np.unique(y_test))\n",
    "        plt.xlabel(\"Predicted\")\n",
    "        plt.ylabel(\"Actual\")\n",
    "        plt.title(\"Confusion Matrix\")\n",
    "        plt.savefig(\"confusion_matrix.png\")\n",
    "        mlflow.log_artifact(\"confusion_matrix.png\")\n",
    "\n",
    "        mlflow.set_tag(\"Experiment Notes\", note)\n",
    "        print(\"classification_report\",class_report)\n",
    "        print(f\"Model logged successfully with accuracy={accuracy:.4f}\")"
   ]
  },
  {
   "cell_type": "markdown",
   "metadata": {},
   "source": [
    "### RF"
   ]
  },
  {
   "cell_type": "code",
   "execution_count": 21,
   "metadata": {},
   "outputs": [
    {
     "name": "stderr",
     "output_type": "stream",
     "text": [
      "2025/03/15 17:45:04 WARNING mlflow.models.model: Model logged without a signature and input example. Please set `input_example` parameter when logging the model to auto infer the model signature.\n"
     ]
    },
    {
     "name": "stdout",
     "output_type": "stream",
     "text": [
      "classification_report {'0': {'precision': 0.845100105374078, 'recall': 0.8960893854748604, 'f1-score': 0.8698481561822126, 'support': 895.0}, '1': {'precision': 0.6265060240963856, 'recall': 0.5148514851485149, 'f1-score': 0.5652173913043478, 'support': 303.0}, 'accuracy': 0.7996661101836394, 'macro avg': {'precision': 0.7358030647352318, 'recall': 0.7054704353116876, 'f1-score': 0.7175327737432802, 'support': 1198.0}, 'weighted avg': {'precision': 0.7898129546001709, 'recall': 0.7996661101836394, 'f1-score': 0.7928004752489963, 'support': 1198.0}}\n",
      "Model logged successfully with accuracy=0.7997\n"
     ]
    },
    {
     "name": "stderr",
     "output_type": "stream",
     "text": [
      "2025/03/15 17:45:16 WARNING mlflow.models.model: Model logged without a signature and input example. Please set `input_example` parameter when logging the model to auto infer the model signature.\n"
     ]
    },
    {
     "name": "stdout",
     "output_type": "stream",
     "text": [
      "classification_report {'0': {'precision': 0.8924302788844621, 'recall': 0.7508379888268156, 'f1-score': 0.8155339805825242, 'support': 895.0}, '1': {'precision': 0.49887640449438203, 'recall': 0.7326732673267327, 'f1-score': 0.5935828877005348, 'support': 303.0}, 'accuracy': 0.7462437395659433, 'macro avg': {'precision': 0.6956533416894221, 'recall': 0.7417556280767741, 'f1-score': 0.7045584341415295, 'support': 1198.0}, 'weighted avg': {'precision': 0.7928920285170212, 'recall': 0.7462437395659433, 'f1-score': 0.7593977692776471, 'support': 1198.0}}\n",
      "Model logged successfully with accuracy=0.7462\n"
     ]
    },
    {
     "data": {
      "image/png": "[encoded data removed]",
      "text/plain": [
       "<Figure size 600x400 with 2 Axes>"
      ]
     },
     "metadata": {},
     "output_type": "display_data"
    },
    {
     "data": {
      "image/png": "[encoded data removed]",
      "text/plain": [
       "<Figure size 600x400 with 2 Axes>"
      ]
     },
     "metadata": {},
     "output_type": "display_data"
    }
   ],
   "source": [
    "param_grid = {\n",
    "    'n_estimators': [100, 200, 300],\n",
    "    'max_depth': [10, 20, None],\n",
    "    'min_samples_split': [2, 5, 10],\n",
    "    'min_samples_leaf': [1, 2, 4],\n",
    "    'max_features': [ 'sqrt', 'log2']\n",
    "}\n",
    "rf = RandomForestClassifier()\n",
    "random_search = RandomizedSearchCV(estimator= rf, param_distributions= param_grid, n_iter=100, cv=5, n_jobs=-1, scoring='accuracy')\n",
    "\n",
    "train_and_log_model(random_search,X_train,y_train,X_val,y_val,\"Finding the best hyper parameters for the Randomforest\",True)\n",
    "best_parameters=random_search.best_params_\n",
    "rf_best_params = RandomForestClassifier(**best_parameters)\n",
    "\n",
    "train_and_log_model(rf_best_params,X_resampled,y_resampled,X_val,y_val,\"training  Randomforest on resampled data\",False)"
   ]
  },
  {
   "cell_type": "markdown",
   "metadata": {},
   "source": [
    "#### Discus \n",
    "Accuracy Decreased from accuracy=0.8119 =>  accuracy=0.7807\n",
    "but we clearly can see that recall of the positive class increased .51=> .77 \n",
    "this mean we have less false nigative (client who leaved with out being detected by the model)\n",
    "\n",
    "\n",
    "...\n",
    "old \n",
    "\n",
    "\n",
    "\n",
    "                precision    recall  f1-score   support\n",
    "\n",
    "           0       0.84      0.92      0.88      1036\n",
    "           1       0.70      0.51      0.59       373\n",
    "\n",
    "    accuracy                           0.81      1409\n",
    "   macro avg       0.77      0.72      0.73      1409\n",
    "weighted avg       0.80      0.81      0.80      1409\n",
    "\n",
    "new \n",
    "\n",
    "\n",
    "\n",
    "\n",
    "                precision    recall  f1-score   support\n",
    "\n",
    "           0       0.90      0.78      0.84      1036\n",
    "           1       0.56      0.77      0.65       373\n",
    "\n",
    "    accuracy                           0.78      1409\n",
    "   macro avg       0.73      0.78      0.75      1409\n",
    "weighted avg       0.81      0.78      0.79      140"
   ]
  },
  {
   "cell_type": "markdown",
   "metadata": {},
   "source": [
    "### Logistic"
   ]
  },
  {
   "cell_type": "code",
   "execution_count": 24,
   "metadata": {},
   "outputs": [
    {
     "name": "stderr",
     "output_type": "stream",
     "text": [
      "2025/03/15 20:11:43 WARNING mlflow.models.model: Model logged without a signature and input example. Please set `input_example` parameter when logging the model to auto infer the model signature.\n"
     ]
    },
    {
     "name": "stdout",
     "output_type": "stream",
     "text": [
      "classification_report {'0': {'precision': 0.8502673796791443, 'recall': 0.888268156424581, 'f1-score': 0.8688524590163934, 'support': 895.0}, '1': {'precision': 0.6197718631178707, 'recall': 0.5379537953795379, 'f1-score': 0.5759717314487632, 'support': 303.0}, 'accuracy': 0.7996661101836394, 'macro avg': {'precision': 0.7350196213985075, 'recall': 0.7131109759020595, 'f1-score': 0.7224120952325783, 'support': 1198.0}, 'weighted avg': {'precision': 0.7919700996139808, 'recall': 0.7996661101836394, 'f1-score': 0.7947766155664837, 'support': 1198.0}}\n",
      "Model logged successfully with accuracy=0.7997\n"
     ]
    },
    {
     "name": "stderr",
     "output_type": "stream",
     "text": [
      "2025/03/15 20:12:02 WARNING mlflow.models.model: Model logged without a signature and input example. Please set `input_example` parameter when logging the model to auto infer the model signature.\n"
     ]
    },
    {
     "name": "stdout",
     "output_type": "stream",
     "text": [
      "classification_report {'0': {'precision': 0.9041487839771102, 'recall': 0.7061452513966481, 'f1-score': 0.7929736511919699, 'support': 895.0}, '1': {'precision': 0.4729458917835671, 'recall': 0.7788778877887789, 'f1-score': 0.5885286783042394, 'support': 303.0}, 'accuracy': 0.7245409015025042, 'macro avg': {'precision': 0.6885473378803386, 'recall': 0.7425115695927135, 'f1-score': 0.6907511647481046, 'support': 1198.0}, 'weighted avg': {'precision': 0.7950882862019486, 'recall': 0.7245409015025042, 'f1-score': 0.7412651146435707, 'support': 1198.0}}\n",
      "Model logged successfully with accuracy=0.7245\n"
     ]
    },
    {
     "data": {
      "image/png": "[encoded data removed]",
      "text/plain": [
       "<Figure size 600x400 with 2 Axes>"
      ]
     },
     "metadata": {},
     "output_type": "display_data"
    },
    {
     "data": {
      "image/png": "[encoded data removed]",
      "text/plain": [
       "<Figure size 600x400 with 2 Axes>"
      ]
     },
     "metadata": {},
     "output_type": "display_data"
    }
   ],
   "source": [
    "\n",
    "# Define parameter grid\n",
    "param_grid = [\n",
    "    {'C': np.logspace(-4, 4, 10), 'penalty': ['l1', 'l2'], 'solver': ['liblinear']},  # liblinear supports only l1, l2\n",
    "    {'C': np.logspace(-4, 4, 10), 'penalty': ['l1', 'l2', 'elasticnet'], 'solver': ['saga'], 'l1_ratio': [0.1, 0.5, 0.9]}  # saga supports l1, l2, elasticnet\n",
    "]\n",
    "\n",
    "# Initialize model\n",
    "model = LogisticRegression(max_iter=1000)\n",
    "\n",
    "# GridSearchCV with valid params\n",
    "grid_search = GridSearchCV(model, param_grid, cv=5, scoring='accuracy', n_jobs=-1, error_score='raise')\n",
    "\n",
    "\n",
    "train_and_log_model(grid_search,X_train,y_train,X_val,y_val,\"Finding the best hyper parameters for the Logistic Reg\",True)\n",
    "best_parameters=grid_search.best_params_\n",
    "Lr_best_params = LogisticRegression(**best_parameters, max_iter=1000)\n",
    "\n",
    "train_and_log_model(Lr_best_params,X_resampled,y_resampled,X_val,y_val,\"training  Logistic  on resampled data\",False)\n"
   ]
  },
  {
   "cell_type": "markdown",
   "metadata": {},
   "source": [
    "#### Discus\n",
    "old\n",
    "\n",
    "\n",
    "                precision    recall  f1-score   support\n",
    "\n",
    "           0       0.86      0.90      0.88      1036\n",
    "           1       0.68      0.58      0.63       373\n",
    "\n",
    "    accuracy                           0.82      1409\n",
    "   macro avg       0.77      0.74      0.75      1409\n",
    "weighted avg       0.81      0.82      0.81      1409\n",
    "\n",
    "\n",
    "\n",
    "new \n",
    "\n",
    "\n",
    "              precision    recall  f1-score   support\n",
    "\n",
    "           0       0.92      0.72      0.81      1036\n",
    "           1       0.52      0.84      0.64       373\n",
    "\n",
    "    accuracy                           0.75      1409\n",
    "   macro avg       0.72      0.78      0.73      1409\n",
    "weighted avg       0.82      0.75      0.77      1409"
   ]
  },
  {
   "cell_type": "markdown",
   "metadata": {},
   "source": [
    "### XGBoost"
   ]
  },
  {
   "cell_type": "code",
   "execution_count": 26,
   "metadata": {},
   "outputs": [
    {
     "name": "stdout",
     "output_type": "stream",
     "text": [
      "Fitting 5 folds for each of 20 candidates, totalling 100 fits\n"
     ]
    },
    {
     "name": "stderr",
     "output_type": "stream",
     "text": [
      "f:\\Users\\faiz\\anaconda3\\envs\\AIDE506\\Lib\\site-packages\\xgboost\\core.py:158: UserWarning: [20:15:36] WARNING: C:\\buildkite-agent\\builds\\buildkite-windows-cpu-autoscaling-group-i-08cbc0333d8d4aae1-1\\xgboost\\xgboost-ci-windows\\src\\learner.cc:740: \n",
      "Parameters: { \"use_label_encoder\" } are not used.\n",
      "\n",
      "  warnings.warn(smsg, UserWarning)\n",
      "2025/03/15 20:15:53 WARNING mlflow.models.model: Model logged without a signature and input example. Please set `input_example` parameter when logging the model to auto infer the model signature.\n"
     ]
    },
    {
     "name": "stdout",
     "output_type": "stream",
     "text": [
      "classification_report {'0': {'precision': 0.8509513742071881, 'recall': 0.8994413407821229, 'f1-score': 0.8745247148288974, 'support': 895.0}, '1': {'precision': 0.6428571428571429, 'recall': 0.5346534653465347, 'f1-score': 0.5837837837837838, 'support': 303.0}, 'accuracy': 0.8071786310517529, 'macro avg': {'precision': 0.7469042585321655, 'recall': 0.7170474030643288, 'f1-score': 0.7291542493063405, 'support': 1198.0}, 'weighted avg': {'precision': 0.7983198616036291, 'recall': 0.8071786310517529, 'f1-score': 0.8009900720019614, 'support': 1198.0}}\n",
      "Model logged successfully with accuracy=0.8072\n"
     ]
    },
    {
     "name": "stderr",
     "output_type": "stream",
     "text": [
      "2025/03/15 20:16:09 WARNING mlflow.models.model: Model logged without a signature and input example. Please set `input_example` parameter when logging the model to auto infer the model signature.\n"
     ]
    },
    {
     "name": "stdout",
     "output_type": "stream",
     "text": [
      "classification_report {'0': {'precision': 0.9012178619756428, 'recall': 0.7441340782122905, 'f1-score': 0.8151774785801713, 'support': 895.0}, '1': {'precision': 0.5010893246187363, 'recall': 0.759075907590759, 'f1-score': 0.6036745406824147, 'support': 303.0}, 'accuracy': 0.7479131886477463, 'macro avg': {'precision': 0.7011535932971895, 'recall': 0.7516049929015247, 'f1-score': 0.709426009631293, 'support': 1198.0}, 'weighted avg': {'precision': 0.8000167377526523, 'recall': 0.7479131886477463, 'f1-score': 0.7616838306811561, 'support': 1198.0}}\n",
      "Model logged successfully with accuracy=0.7479\n"
     ]
    },
    {
     "data": {
      "image/png": "[encoded data removed]",
      "text/plain": [
       "<Figure size 600x400 with 2 Axes>"
      ]
     },
     "metadata": {},
     "output_type": "display_data"
    },
    {
     "data": {
      "image/png": "[encoded data removed]",
      "text/plain": [
       "<Figure size 600x400 with 2 Axes>"
      ]
     },
     "metadata": {},
     "output_type": "display_data"
    }
   ],
   "source": [
    "from xgboost import XGBClassifier\n",
    "from sklearn.model_selection import RandomizedSearchCV\n",
    "import numpy as np\n",
    "\n",
    "# Define parameter distribution\n",
    "param_dist = {\n",
    "    'n_estimators': [100, 200, 300, 400, 500],  # Number of trees\n",
    "    'max_depth': [3, 5, 7, 9, 12],  # Depth of trees\n",
    "    'learning_rate': np.logspace(-3, 0, 10),  # Shrinks contribution of trees\n",
    "    'subsample': [0.6, 0.8, 1.0],  # Percentage of samples used per tree\n",
    "    'colsample_bytree': [0.6, 0.8, 1.0],  # Percentage of features used per tree\n",
    "    'gamma': [0, 0.1, 0.3, 0.5, 1],  # Minimum loss reduction for split\n",
    "    'lambda': np.logspace(-3, 1, 5),  # L2 regularization\n",
    "    'alpha': np.logspace(-3, 1, 5)  # L1 regularization\n",
    "}\n",
    "\n",
    "# Initialize XGBoost model\n",
    "xgb_model = XGBClassifier(use_label_encoder=False, eval_metric=\"logloss\", random_state=42)\n",
    "\n",
    "# Randomized Search CV\n",
    "random_search = RandomizedSearchCV(\n",
    "    estimator=xgb_model,\n",
    "    param_distributions=param_dist,\n",
    "    n_iter=20,  # Number of different settings to try\n",
    "    scoring='accuracy',\n",
    "    cv=5,\n",
    "    verbose=2,\n",
    "    n_jobs=-1,\n",
    "    random_state=42\n",
    ")\n",
    "\n",
    "\n",
    "train_and_log_model(random_search,X_train,y_train,X_val,y_val,\"Finding the best hyper parameters for the XGB \",True)\n",
    "best_parameters=random_search.best_params_\n",
    "XGB_best_params = XGBClassifier(**best_parameters)\n",
    "\n",
    "train_and_log_model(XGB_best_params,X_resampled,y_resampled,X_val,y_val,\"training  LoXGB on resampled data\",False)\n"
   ]
  },
  {
   "cell_type": "markdown",
   "metadata": {},
   "source": [
    "old\n",
    "\n",
    "              precision    recall  f1-score   support\n",
    "\n",
    "           0       0.85      0.90      0.87       895\n",
    "           1       0.64      0.53      0.58       303\n",
    "\n",
    "    accuracy                           0.81      1198\n",
    "   macro avg       0.75      0.72      0.73      1198\n",
    "weighted avg       0.80      0.81      0.80      1198\n",
    "\n",
    "\n",
    "\n",
    "\n",
    "new \n",
    "\n",
    "              precision    recall  f1-score   support\n",
    "\n",
    "           0       0.90      0.74      0.82       895\n",
    "           1       0.50      0.76      0.60       303\n",
    "\n",
    "    accuracy                           0.75      1198\n",
    "   macro avg       0.70      0.75      0.71      1198\n",
    "weighted avg       0.80      0.75      0.76      1198"
   ]
  },
  {
   "cell_type": "markdown",
   "metadata": {},
   "source": [
    "# Stacked"
   ]
  },
  {
   "cell_type": "markdown",
   "metadata": {},
   "source": [
    "## prepare meta data"
   ]
  },
  {
   "cell_type": "code",
   "execution_count": 28,
   "metadata": {},
   "outputs": [],
   "source": [
    "#making predictions for the validation data\n",
    "preds1 = rf_best_params.predict(X_val)\n",
    "preds2 = Lr_best_params.predict(X_val)\n",
    "preds3 = XGB_best_params.predict(X_val)\n",
    "\n",
    "#making predictions for the test data\n",
    "test_preds1 = rf_best_params.predict(X_test)\n",
    "test_preds2 = Lr_best_params.predict(X_test)\n",
    "test_preds3 = XGB_best_params.predict(X_test)"
   ]
  },
  {
   "cell_type": "code",
   "execution_count": 29,
   "metadata": {},
   "outputs": [],
   "source": [
    "train_stack = np.column_stack((preds1,preds2,preds3))\n",
    "test_stack = np.column_stack((test_preds1,test_preds2,test_preds3))"
   ]
  },
  {
   "cell_type": "code",
   "execution_count": 36,
   "metadata": {},
   "outputs": [
    {
     "name": "stderr",
     "output_type": "stream",
     "text": [
      "2025/03/15 20:42:58 WARNING mlflow.models.model: Model logged without a signature and input example. Please set `input_example` parameter when logging the model to auto infer the model signature.\n"
     ]
    },
    {
     "name": "stdout",
     "output_type": "stream",
     "text": [
      "classification_report {'0': {'precision': 0.9067055393586005, 'recall': 0.8025806451612904, 'f1-score': 0.8514715947980835, 'support': 775.0}, '1': {'precision': 0.5876010781671159, 'recall': 0.7730496453900709, 'f1-score': 0.667687595712098, 'support': 282.0}, 'accuracy': 0.7947019867549668, 'macro avg': {'precision': 0.7471533087628582, 'recall': 0.7878151452756806, 'f1-score': 0.7595795952550908, 'support': 1057.0}, 'weighted avg': {'precision': 0.8215707635251108, 'recall': 0.7947019867549668, 'f1-score': 0.8024393452784545, 'support': 1057.0}}\n",
      "Model logged successfully with accuracy=0.7947\n"
     ]
    },
    {
     "data": {
      "image/png": "[encoded data removed]",
      "text/plain": [
       "<Figure size 600x400 with 2 Axes>"
      ]
     },
     "metadata": {},
     "output_type": "display_data"
    }
   ],
   "source": [
    "meta_model = LogisticRegression(max_iter=1000)\n",
    "\n",
    "#training the final model on the stacked predictions\n",
    "train_and_log_model(meta_model,train_stack,y_val,test_stack,y_test,\"train the meta model \",False)"
   ]
  }
 ],
 "metadata": {
  "kernelspec": {
   "display_name": "AIDE506",
   "language": "python",
   "name": "python3"
  },
  "language_info": {
   "codemirror_mode": {
    "name": "ipython",
    "version": 3
   },
   "file_extension": ".py",
   "mimetype": "text/x-python",
   "name": "python",
   "nbconvert_exporter": "python",
   "pygments_lexer": "ipython3",
   "version": "3.11.11"
  }
 },
 "nbformat": 4,
 "nbformat_minor": 2
}
